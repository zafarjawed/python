{
 "cells": [
  {
   "cell_type": "code",
   "execution_count": 1,
   "id": "c1e6eed0-12db-4723-900e-f190ace6603a",
   "metadata": {},
   "outputs": [
    {
     "name": "stdin",
     "output_type": "stream",
     "text": [
      " 10\n"
     ]
    },
    {
     "name": "stdout",
     "output_type": "stream",
     "text": [
      "55\n"
     ]
    }
   ],
   "source": [
    "#for loop\n",
    "#syntax: for <variable> in <sequence>:\n",
    "#           <body statements>\n",
    "n=int(input())\n",
    "sum = 0\n",
    "for i in range (1,n+1):\n",
    "    sum+=i\n",
    "print (sum)"
   ]
  },
  {
   "cell_type": "code",
   "execution_count": 3,
   "id": "78b158db-5578-441f-8e5f-78ff4503a060",
   "metadata": {},
   "outputs": [
    {
     "name": "stdin",
     "output_type": "stream",
     "text": [
      " 10\n"
     ]
    },
    {
     "name": "stdout",
     "output_type": "stream",
     "text": [
      "sum: 55\n",
      "avg: 5.5\n"
     ]
    }
   ],
   "source": [
    "#sum and average\n",
    "n=int(input())\n",
    "sum = 0\n",
    "for i in range (1,n+1):\n",
    "    sum+=i\n",
    "print (\"sum:\",sum)\n",
    "print (\"avg:\",sum/n)"
   ]
  },
  {
   "cell_type": "code",
   "execution_count": null,
   "id": "d0fe1102-a834-472f-b2f7-9b431c7c0ca7",
   "metadata": {},
   "outputs": [],
   "source": []
  }
 ],
 "metadata": {
  "kernelspec": {
   "display_name": "Python 3 (ipykernel)",
   "language": "python",
   "name": "python3"
  },
  "language_info": {
   "codemirror_mode": {
    "name": "ipython",
    "version": 3
   },
   "file_extension": ".py",
   "mimetype": "text/x-python",
   "name": "python",
   "nbconvert_exporter": "python",
   "pygments_lexer": "ipython3",
   "version": "3.12.4"
  }
 },
 "nbformat": 4,
 "nbformat_minor": 5
}
