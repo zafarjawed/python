{
 "cells": [
  {
   "cell_type": "code",
   "execution_count": 1,
   "id": "06d474ea-495a-4913-ae87-871436c6ea4b",
   "metadata": {},
   "outputs": [
    {
     "name": "stdin",
     "output_type": "stream",
     "text": [
      " 5\n"
     ]
    },
    {
     "name": "stdout",
     "output_type": "stream",
     "text": [
      "1\n",
      "2\n",
      "4\n",
      "7\n",
      "11\n",
      "16\n"
     ]
    }
   ],
   "source": [
    "#calculate the sum of all numbers from 1 to a given number\n",
    "n=int(input())\n",
    "sum=1\n",
    "for i in range (n+1):\n",
    "    sum+=i\n",
    "    print(sum)"
   ]
  }
 ],
 "metadata": {
  "kernelspec": {
   "display_name": "Python 3 (ipykernel)",
   "language": "python",
   "name": "python3"
  },
  "language_info": {
   "codemirror_mode": {
    "name": "ipython",
    "version": 3
   },
   "file_extension": ".py",
   "mimetype": "text/x-python",
   "name": "python",
   "nbconvert_exporter": "python",
   "pygments_lexer": "ipython3",
   "version": "3.12.4"
  }
 },
 "nbformat": 4,
 "nbformat_minor": 5
}
